{
 "cells": [
  {
   "cell_type": "code",
   "execution_count": 2,
   "id": "d004aa9e",
   "metadata": {},
   "outputs": [],
   "source": [
    "# Libraries\n",
    "\n",
    "import os                       # Miscellaneous operating system interfaces\n",
    "import pandas as pd             # Data manipulation and analysis\n",
    "import numpy as np              # Mathematical functions off of arrays\n",
    "\n",
    "import matplotlib.pyplot as plt # Implicit, MATLAB-like, way of plotting\n",
    "import seaborn as sns           # Data visualization library based on matplotlib\n",
    "\n",
    "# import warnings\n",
    "# warnings.filterwarnings('ignore')"
   ]
  },
  {
   "cell_type": "code",
   "execution_count": 3,
   "id": "ccd22a32",
   "metadata": {},
   "outputs": [],
   "source": [
    "pwd = os.getcwd()               # Get present working directory"
   ]
  },
  {
   "cell_type": "code",
   "execution_count": 4,
   "id": "1ef16cea",
   "metadata": {},
   "outputs": [
    {
     "data": {
      "text/plain": [
       "'/Users/jasonisberto/Python_Projects/Monkeypox Dataset - 2022-08-12'"
      ]
     },
     "execution_count": 4,
     "metadata": {},
     "output_type": "execute_result"
    }
   ],
   "source": [
    "pwd"
   ]
  },
  {
   "cell_type": "code",
   "execution_count": 6,
   "id": "2edd3633",
   "metadata": {},
   "outputs": [
    {
     "data": {
      "text/html": [
       "<style>.container { width:100% !important; }</style>"
      ],
      "text/plain": [
       "<IPython.core.display.HTML object>"
      ]
     },
     "metadata": {},
     "output_type": "display_data"
    }
   ],
   "source": [
    "# Increase width of Jupyter Notebook interface\n",
    "\n",
    "from IPython.core.display import display, HTML\n",
    "display(HTML(\"<style>.container { width:100% !important; }</style>\"))"
   ]
  },
  {
   "cell_type": "code",
   "execution_count": 7,
   "id": "b7b9a3b9",
   "metadata": {
    "scrolled": true
   },
   "outputs": [
    {
     "data": {
      "text/html": [
       "<div>\n",
       "<style scoped>\n",
       "    .dataframe tbody tr th:only-of-type {\n",
       "        vertical-align: middle;\n",
       "    }\n",
       "\n",
       "    .dataframe tbody tr th {\n",
       "        vertical-align: top;\n",
       "    }\n",
       "\n",
       "    .dataframe thead th {\n",
       "        text-align: right;\n",
       "    }\n",
       "</style>\n",
       "<table border=\"1\" class=\"dataframe\">\n",
       "  <thead>\n",
       "    <tr style=\"text-align: right;\">\n",
       "      <th></th>\n",
       "      <th>Country</th>\n",
       "      <th>Confirmed_Cases</th>\n",
       "      <th>Suspected_Cases</th>\n",
       "      <th>Hospitalized</th>\n",
       "      <th>Travel_History_Yes</th>\n",
       "      <th>Travel_History_No</th>\n",
       "    </tr>\n",
       "  </thead>\n",
       "  <tbody>\n",
       "    <tr>\n",
       "      <th>0</th>\n",
       "      <td>England</td>\n",
       "      <td>2883.0</td>\n",
       "      <td>0.0</td>\n",
       "      <td>5.0</td>\n",
       "      <td>2.0</td>\n",
       "      <td>7.0</td>\n",
       "    </tr>\n",
       "    <tr>\n",
       "      <th>1</th>\n",
       "      <td>Portugal</td>\n",
       "      <td>710.0</td>\n",
       "      <td>0.0</td>\n",
       "      <td>0.0</td>\n",
       "      <td>0.0</td>\n",
       "      <td>34.0</td>\n",
       "    </tr>\n",
       "    <tr>\n",
       "      <th>2</th>\n",
       "      <td>Spain</td>\n",
       "      <td>5162.0</td>\n",
       "      <td>0.0</td>\n",
       "      <td>13.0</td>\n",
       "      <td>2.0</td>\n",
       "      <td>0.0</td>\n",
       "    </tr>\n",
       "    <tr>\n",
       "      <th>3</th>\n",
       "      <td>United States</td>\n",
       "      <td>10726.0</td>\n",
       "      <td>0.0</td>\n",
       "      <td>4.0</td>\n",
       "      <td>41.0</td>\n",
       "      <td>10.0</td>\n",
       "    </tr>\n",
       "    <tr>\n",
       "      <th>4</th>\n",
       "      <td>Canada</td>\n",
       "      <td>1011.0</td>\n",
       "      <td>10.0</td>\n",
       "      <td>1.0</td>\n",
       "      <td>3.0</td>\n",
       "      <td>0.0</td>\n",
       "    </tr>\n",
       "    <tr>\n",
       "      <th>...</th>\n",
       "      <td>...</td>\n",
       "      <td>...</td>\n",
       "      <td>...</td>\n",
       "      <td>...</td>\n",
       "      <td>...</td>\n",
       "      <td>...</td>\n",
       "    </tr>\n",
       "    <tr>\n",
       "      <th>108</th>\n",
       "      <td>Central African Republic</td>\n",
       "      <td>8.0</td>\n",
       "      <td>9.0</td>\n",
       "      <td>0.0</td>\n",
       "      <td>0.0</td>\n",
       "      <td>0.0</td>\n",
       "    </tr>\n",
       "    <tr>\n",
       "      <th>109</th>\n",
       "      <td>Republic of Congo</td>\n",
       "      <td>2.0</td>\n",
       "      <td>6.0</td>\n",
       "      <td>0.0</td>\n",
       "      <td>0.0</td>\n",
       "      <td>0.0</td>\n",
       "    </tr>\n",
       "    <tr>\n",
       "      <th>110</th>\n",
       "      <td>Cameroon</td>\n",
       "      <td>7.0</td>\n",
       "      <td>26.0</td>\n",
       "      <td>0.0</td>\n",
       "      <td>0.0</td>\n",
       "      <td>0.0</td>\n",
       "    </tr>\n",
       "    <tr>\n",
       "      <th>111</th>\n",
       "      <td>Liberia</td>\n",
       "      <td>1.0</td>\n",
       "      <td>4.0</td>\n",
       "      <td>0.0</td>\n",
       "      <td>0.0</td>\n",
       "      <td>0.0</td>\n",
       "    </tr>\n",
       "    <tr>\n",
       "      <th>112</th>\n",
       "      <td>Sierra Leone</td>\n",
       "      <td>0.0</td>\n",
       "      <td>2.0</td>\n",
       "      <td>0.0</td>\n",
       "      <td>0.0</td>\n",
       "      <td>0.0</td>\n",
       "    </tr>\n",
       "  </tbody>\n",
       "</table>\n",
       "<p>113 rows × 6 columns</p>\n",
       "</div>"
      ],
      "text/plain": [
       "                      Country  Confirmed_Cases  Suspected_Cases  Hospitalized  \\\n",
       "0                     England           2883.0              0.0           5.0   \n",
       "1                    Portugal            710.0              0.0           0.0   \n",
       "2                       Spain           5162.0              0.0          13.0   \n",
       "3               United States          10726.0              0.0           4.0   \n",
       "4                      Canada           1011.0             10.0           1.0   \n",
       "..                        ...              ...              ...           ...   \n",
       "108  Central African Republic              8.0              9.0           0.0   \n",
       "109         Republic of Congo              2.0              6.0           0.0   \n",
       "110                  Cameroon              7.0             26.0           0.0   \n",
       "111                   Liberia              1.0              4.0           0.0   \n",
       "112              Sierra Leone              0.0              2.0           0.0   \n",
       "\n",
       "     Travel_History_Yes  Travel_History_No  \n",
       "0                   2.0                7.0  \n",
       "1                   0.0               34.0  \n",
       "2                   2.0                0.0  \n",
       "3                  41.0               10.0  \n",
       "4                   3.0                0.0  \n",
       "..                  ...                ...  \n",
       "108                 0.0                0.0  \n",
       "109                 0.0                0.0  \n",
       "110                 0.0                0.0  \n",
       "111                 0.0                0.0  \n",
       "112                 0.0                0.0  \n",
       "\n",
       "[113 rows x 6 columns]"
      ]
     },
     "execution_count": 7,
     "metadata": {},
     "output_type": "execute_result"
    }
   ],
   "source": [
    "# Import CSV\n",
    "\n",
    "global_cases_data = pd.read_csv('Monkey_Pox_Cases_Worldwide.csv')\n",
    "global_cases_data"
   ]
  },
  {
   "cell_type": "markdown",
   "id": "7f11e1ec",
   "metadata": {},
   "source": [
    "# Data Pre-processing"
   ]
  },
  {
   "cell_type": "code",
   "execution_count": 9,
   "id": "803b4de0",
   "metadata": {},
   "outputs": [
    {
     "data": {
      "text/html": [
       "<div>\n",
       "<style scoped>\n",
       "    .dataframe tbody tr th:only-of-type {\n",
       "        vertical-align: middle;\n",
       "    }\n",
       "\n",
       "    .dataframe tbody tr th {\n",
       "        vertical-align: top;\n",
       "    }\n",
       "\n",
       "    .dataframe thead th {\n",
       "        text-align: right;\n",
       "    }\n",
       "</style>\n",
       "<table border=\"1\" class=\"dataframe\">\n",
       "  <thead>\n",
       "    <tr style=\"text-align: right;\">\n",
       "      <th></th>\n",
       "      <th>Confirmed_Cases</th>\n",
       "      <th>Suspected_Cases</th>\n",
       "      <th>Hospitalized</th>\n",
       "      <th>Travel_History_Yes</th>\n",
       "      <th>Travel_History_No</th>\n",
       "    </tr>\n",
       "  </thead>\n",
       "  <tbody>\n",
       "    <tr>\n",
       "      <th>count</th>\n",
       "      <td>113.000000</td>\n",
       "      <td>113.000000</td>\n",
       "      <td>113.000000</td>\n",
       "      <td>113.000000</td>\n",
       "      <td>113.000000</td>\n",
       "    </tr>\n",
       "    <tr>\n",
       "      <th>mean</th>\n",
       "      <td>301.619469</td>\n",
       "      <td>21.380531</td>\n",
       "      <td>1.132743</td>\n",
       "      <td>2.176991</td>\n",
       "      <td>0.761062</td>\n",
       "    </tr>\n",
       "    <tr>\n",
       "      <th>std</th>\n",
       "      <td>1216.843819</td>\n",
       "      <td>198.704794</td>\n",
       "      <td>2.892430</td>\n",
       "      <td>5.032448</td>\n",
       "      <td>3.711166</td>\n",
       "    </tr>\n",
       "    <tr>\n",
       "      <th>min</th>\n",
       "      <td>0.000000</td>\n",
       "      <td>0.000000</td>\n",
       "      <td>0.000000</td>\n",
       "      <td>0.000000</td>\n",
       "      <td>0.000000</td>\n",
       "    </tr>\n",
       "    <tr>\n",
       "      <th>25%</th>\n",
       "      <td>1.000000</td>\n",
       "      <td>0.000000</td>\n",
       "      <td>0.000000</td>\n",
       "      <td>0.000000</td>\n",
       "      <td>0.000000</td>\n",
       "    </tr>\n",
       "    <tr>\n",
       "      <th>50%</th>\n",
       "      <td>4.000000</td>\n",
       "      <td>0.000000</td>\n",
       "      <td>0.000000</td>\n",
       "      <td>1.000000</td>\n",
       "      <td>0.000000</td>\n",
       "    </tr>\n",
       "    <tr>\n",
       "      <th>75%</th>\n",
       "      <td>48.000000</td>\n",
       "      <td>0.000000</td>\n",
       "      <td>1.000000</td>\n",
       "      <td>2.000000</td>\n",
       "      <td>0.000000</td>\n",
       "    </tr>\n",
       "    <tr>\n",
       "      <th>max</th>\n",
       "      <td>10726.000000</td>\n",
       "      <td>2103.000000</td>\n",
       "      <td>18.000000</td>\n",
       "      <td>41.000000</td>\n",
       "      <td>34.000000</td>\n",
       "    </tr>\n",
       "  </tbody>\n",
       "</table>\n",
       "</div>"
      ],
      "text/plain": [
       "       Confirmed_Cases  Suspected_Cases  Hospitalized  Travel_History_Yes  \\\n",
       "count       113.000000       113.000000    113.000000          113.000000   \n",
       "mean        301.619469        21.380531      1.132743            2.176991   \n",
       "std        1216.843819       198.704794      2.892430            5.032448   \n",
       "min           0.000000         0.000000      0.000000            0.000000   \n",
       "25%           1.000000         0.000000      0.000000            0.000000   \n",
       "50%           4.000000         0.000000      0.000000            1.000000   \n",
       "75%          48.000000         0.000000      1.000000            2.000000   \n",
       "max       10726.000000      2103.000000     18.000000           41.000000   \n",
       "\n",
       "       Travel_History_No  \n",
       "count         113.000000  \n",
       "mean            0.761062  \n",
       "std             3.711166  \n",
       "min             0.000000  \n",
       "25%             0.000000  \n",
       "50%             0.000000  \n",
       "75%             0.000000  \n",
       "max            34.000000  "
      ]
     },
     "execution_count": 9,
     "metadata": {},
     "output_type": "execute_result"
    }
   ],
   "source": [
    "# describe() - method returns description of the data in the DataFrame\n",
    "\n",
    "global_cases_data.describe()"
   ]
  },
  {
   "cell_type": "code",
   "execution_count": 14,
   "id": "5663b816",
   "metadata": {},
   "outputs": [
    {
     "data": {
      "text/plain": [
       "(113, 6)"
      ]
     },
     "execution_count": 14,
     "metadata": {},
     "output_type": "execute_result"
    }
   ],
   "source": [
    "# shape - Return a tuple representing the dimensionality of the DataFrame\n",
    "\n",
    "global_cases_data.shape"
   ]
  },
  {
   "cell_type": "code",
   "execution_count": 15,
   "id": "09b4d731",
   "metadata": {},
   "outputs": [
    {
     "data": {
      "text/plain": [
       "Haiti                 1\n",
       "Uganda                1\n",
       "Benin                 1\n",
       "Liberia               1\n",
       "Colombia              1\n",
       "                     ..\n",
       "Austria               1\n",
       "Saudi Arabia          1\n",
       "Dominican Republic    1\n",
       "United States         1\n",
       "Israel                1\n",
       "Name: Country, Length: 113, dtype: int64"
      ]
     },
     "execution_count": 15,
     "metadata": {},
     "output_type": "execute_result"
    }
   ],
   "source": [
    "# value_counts() - function is used to get a Series containing counts of unique values.\n",
    "\n",
    "global_cases_data['Country'].value_counts()"
   ]
  },
  {
   "cell_type": "code",
   "execution_count": 25,
   "id": "7a5d9900",
   "metadata": {},
   "outputs": [
    {
     "data": {
      "text/plain": [
       "Country               0.0\n",
       "Confirmed_Cases       0.0\n",
       "Suspected_Cases       0.0\n",
       "Hospitalized          0.0\n",
       "Travel_History_Yes    0.0\n",
       "Travel_History_No     0.0\n",
       "dtype: float64"
      ]
     },
     "execution_count": 25,
     "metadata": {},
     "output_type": "execute_result"
    }
   ],
   "source": [
    "# isnull().sum / shape[0] - \n",
    "# Shows percentage of how many missing values are in each column\n",
    "\n",
    "global_cases_data.isnull().sum() /global_cases_data.shape[0]"
   ]
  },
  {
   "cell_type": "code",
   "execution_count": null,
   "id": "0f581a25",
   "metadata": {},
   "outputs": [],
   "source": []
  }
 ],
 "metadata": {
  "kernelspec": {
   "display_name": "Python 3",
   "language": "python",
   "name": "python3"
  },
  "language_info": {
   "codemirror_mode": {
    "name": "ipython",
    "version": 3
   },
   "file_extension": ".py",
   "mimetype": "text/x-python",
   "name": "python",
   "nbconvert_exporter": "python",
   "pygments_lexer": "ipython3",
   "version": "3.8.8"
  }
 },
 "nbformat": 4,
 "nbformat_minor": 5
}
